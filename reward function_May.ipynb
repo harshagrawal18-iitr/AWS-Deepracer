{
 "cells": [
  {
   "cell_type": "code",
   "execution_count": null,
   "metadata": {},
   "outputs": [],
   "source": [
    "def reward_function(params):\n",
    "    distance_from_center = params['distance_from_center']\n",
    "    progress = params['progress']\n",
    "    speed = params['speed']\n",
    "    off_track = params['is_offtrack']\n",
    "\n",
    "    # HELPERS\n",
    "    # 1. Close to center\n",
    "    # Calculate 3 marks that are farther and father away from the center line\n",
    "    marker_1 = 0.1 * params['track_width']\n",
    "    marker_2 = 0.25 * params['track_width']\n",
    "    marker_3 = 0.5 * params['track_width']\n",
    "\n",
    "    # Give higher reward if the car is closer to center line and vice versa\n",
    "    if distance_from_center <= marker_1:\n",
    "        reward = 1\n",
    "    elif distance_from_center <= marker_2:\n",
    "        reward = 0.5\n",
    "    elif distance_from_center <= marker_3:\n",
    "        reward = 0.1\n",
    "    else:\n",
    "        reward = 1e-3  # likely crashed/ close to off track\n",
    "\n",
    "    # SECONDARY: Speed\n",
    "    MAX_SPEED = 4.0\n",
    "    reward *= 1.0 + (speed / MAX_SPEED)\n",
    "\n",
    "    # PUNISHMENTS\n",
    "    # Going out of track\n",
    "    if off_track:\n",
    "        reward -= 10\n",
    "\n",
    "    # Progress Reward (One time rewards)\n",
    "    progress_dict = {\n",
    "        0: 0,\n",
    "        10: 2,\n",
    "        20: 4,\n",
    "        30: 8,\n",
    "        40: 16,\n",
    "        50: 32,\n",
    "        60: 64,\n",
    "        70: 128,\n",
    "        80: 256,\n",
    "        90: 512,\n",
    "        100: 1024\n",
    "    }\n",
    "    int_progress = int(progress)\n",
    "    if int_progress % 10 == 0:\n",
    "        try:\n",
    "            reward += progress_dict[int_progress]\n",
    "        except:\n",
    "            pass\n",
    "\n",
    "    return float(reward)"
   ]
  }
 ],
 "metadata": {
  "kernelspec": {
   "display_name": "Python 3",
   "language": "python",
   "name": "python3"
  },
  "language_info": {
   "codemirror_mode": {
    "name": "ipython",
    "version": 3
   },
   "file_extension": ".py",
   "mimetype": "text/x-python",
   "name": "python",
   "nbconvert_exporter": "python",
   "pygments_lexer": "ipython3",
   "version": "3.7.0"
  }
 },
 "nbformat": 4,
 "nbformat_minor": 2
}
