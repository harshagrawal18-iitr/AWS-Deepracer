{
 "cells": [
  {
   "cell_type": "markdown",
   "metadata": {},
   "source": [
    "\n",
    "\n",
    "# Action space (Continuous)\n",
    "\n",
    "0- The torque applied on the pendulum, Range: (-2, 2)\n",
    "\n",
    "# State space (Continuous)\n",
    "\n",
    "0- Pendulum angle\n",
    "1- Pendulum speed"
   ]
  },
  {
   "cell_type": "code",
   "execution_count": 32,
   "metadata": {},
   "outputs": [],
   "source": [
    "import pandas as pd\n",
    "import numpy as np\n",
    "import gym"
   ]
  },
  {
   "cell_type": "code",
   "execution_count": 33,
   "metadata": {},
   "outputs": [],
   "source": [
    "env = gym.make(\"Pendulum-v1\")"
   ]
  },
  {
   "cell_type": "code",
   "execution_count": 34,
   "metadata": {},
   "outputs": [
    {
     "data": {
      "text/plain": [
       "array([ 0.95905006, -0.2832366 , -0.9119121 ], dtype=float32)"
      ]
     },
     "execution_count": 34,
     "metadata": {},
     "output_type": "execute_result"
    }
   ],
   "source": [
    "env.reset()"
   ]
  },
  {
   "cell_type": "code",
   "execution_count": 35,
   "metadata": {},
   "outputs": [
    {
     "data": {
      "text/plain": [
       "Box(-2.0, 2.0, (1,), float32)"
      ]
     },
     "execution_count": 35,
     "metadata": {},
     "output_type": "execute_result"
    }
   ],
   "source": [
    "env.action_space"
   ]
  },
  {
   "cell_type": "code",
   "execution_count": 36,
   "metadata": {},
   "outputs": [],
   "source": [
    "class RandomPolicy:\n",
    "    def __init__(self, env):\n",
    "        self._max_action = self._action_space_low = env.action_space.low\n",
    "        self._action_space_high = env.action_space.high\n",
    "        self._act_dim = env.action_space.shape[0]\n",
    "        self.policy_name = \"RandomPolicy\"\n",
    "    def get_action(self, state):\n",
    "            return np.random.uniform(\n",
    "                low=-self._max_action,\n",
    "                high=self._max_action,\n",
    "                size=self._act_dim)"
   ]
  },
  {
   "cell_type": "code",
   "execution_count": 37,
   "metadata": {},
   "outputs": [
    {
     "name": "stdout",
     "output_type": "stream",
     "text": [
      "Episode 0 finished, reward:-489, the lenght of the episode:99\n",
      "Episode 1 finished, reward:-497, the lenght of the episode:99\n",
      "Episode 2 finished, reward:-475, the lenght of the episode:99\n",
      "Episode 3 finished, reward:-833, the lenght of the episode:99\n",
      "Episode 4 finished, reward:-583, the lenght of the episode:99\n",
      "Episode 5 finished, reward:-431, the lenght of the episode:99\n",
      "Episode 6 finished, reward:-522, the lenght of the episode:99\n",
      "Episode 7 finished, reward:-639, the lenght of the episode:99\n",
      "Episode 8 finished, reward:-433, the lenght of the episode:99\n",
      "Episode 9 finished, reward:-424, the lenght of the episode:99\n",
      "Episode 10 finished, reward:-593, the lenght of the episode:99\n",
      "Episode 11 finished, reward:-486, the lenght of the episode:99\n",
      "Episode 12 finished, reward:-715, the lenght of the episode:99\n",
      "Episode 13 finished, reward:-767, the lenght of the episode:99\n",
      "Episode 14 finished, reward:-672, the lenght of the episode:99\n",
      "Episode 15 finished, reward:-508, the lenght of the episode:99\n",
      "Episode 16 finished, reward:-514, the lenght of the episode:99\n",
      "Episode 17 finished, reward:-622, the lenght of the episode:99\n",
      "Episode 18 finished, reward:-843, the lenght of the episode:99\n",
      "Episode 19 finished, reward:-493, the lenght of the episode:99\n"
     ]
    }
   ],
   "source": [
    "policy = RandomPolicy(env)\n",
    "# play 4 games\n",
    "number_episodes =20\n",
    "number_moves    = 100\n",
    "for i in range(number_episodes):\n",
    "    # initialize the environment\n",
    "    state = env.reset()\n",
    "    done = False\n",
    "    game_rew = 0  # accumulated reward\n",
    "    for j in range(number_moves):\n",
    "        # choose a random action\n",
    "        action = policy.get_action(state)\n",
    "        # take a step in the environment\n",
    "        next_state, rew, done, info = env.step(action)\n",
    "        state = next_state\n",
    "        game_rew += rew\n",
    "        env.render()\n",
    "        # when is done, print the cumulative reward of the game and reset the environment\n",
    "        if done:\n",
    "            print(\"Done\")\n",
    "            break\n",
    "    print('Episode %d finished, reward:%d, the lenght of the episode:%d'% (i, game_rew,j))\n",
    "# close the redering window\n",
    "env.close()"
   ]
  },
  {
   "cell_type": "code",
   "execution_count": null,
   "metadata": {},
   "outputs": [],
   "source": []
  }
 ],
 "metadata": {
  "kernelspec": {
   "display_name": "Python 3",
   "language": "python",
   "name": "python3"
  },
  "language_info": {
   "codemirror_mode": {
    "name": "ipython",
    "version": 3
   },
   "file_extension": ".py",
   "mimetype": "text/x-python",
   "name": "python",
   "nbconvert_exporter": "python",
   "pygments_lexer": "ipython3",
   "version": "3.7.0"
  }
 },
 "nbformat": 4,
 "nbformat_minor": 2
}
